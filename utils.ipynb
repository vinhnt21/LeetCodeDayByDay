{
 "cells": [
  {
   "cell_type": "code",
   "execution_count": 1,
   "id": "4fae296a",
   "metadata": {},
   "outputs": [],
   "source": [
    "RAW_LEETCODE_NAME = \"684. Redundant Connection\"\n",
    "FILE_NAME = RAW_LEETCODE_NAME.replace(\" \", \"_\").replace(\".\", \"_\").lower()\n",
    "FILE_NAME = f\"_{FILE_NAME}.ipynb\"\n",
    "FOLER_NAME = \"python\"\n",
    "FILE_PATH = f\"{FOLER_NAME}/{FILE_NAME}\"\n",
    "\n",
    "import os\n",
    "# create folder if not exists\n",
    "if not os.path.exists(FOLER_NAME):\n",
    "    os.makedirs(FOLER_NAME)\n",
    "\n",
    "\n",
    "# create file\n",
    "with open(FILE_PATH, \"w\") as f:\n",
    "    f.close()\n"
   ]
  },
  {
   "cell_type": "code",
   "execution_count": 2,
   "id": "4e1a1786",
   "metadata": {},
   "outputs": [],
   "source": [
    "RAW_LEETCODE_NAME = \"1148. Article Views I\"\n",
    "FILE_NAME = RAW_LEETCODE_NAME.replace(\" \", \"_\").replace(\".\", \"_\").lower()\n",
    "FILE_NAME = f\"_{FILE_NAME}.sql\"\n",
    "FOLER_NAME = \"SQL\"\n",
    "FILE_PATH = f\"{FOLER_NAME}/{FILE_NAME}\"\n",
    "\n",
    "import os\n",
    "# create folder if not exists\n",
    "if not os.path.exists(FOLER_NAME):\n",
    "    os.makedirs(FOLER_NAME)\n",
    "\n",
    "\n",
    "# create file\n",
    "with open(FILE_PATH, \"w\") as f:\n",
    "    f.close()\n",
    "\n",
    "# FILE_PATH = FILE_PATH.replace(\".sql\", \".ipynb\")\n",
    "# # create file\n",
    "# with open(FILE_PATH, \"w\") as f:\n",
    "#     f.close()\n"
   ]
  }
 ],
 "metadata": {
  "kernelspec": {
   "display_name": "Python 3",
   "language": "python",
   "name": "python3"
  },
  "language_info": {
   "codemirror_mode": {
    "name": "ipython",
    "version": 3
   },
   "file_extension": ".py",
   "mimetype": "text/x-python",
   "name": "python",
   "nbconvert_exporter": "python",
   "pygments_lexer": "ipython3",
   "version": "3.11.7"
  }
 },
 "nbformat": 4,
 "nbformat_minor": 5
}
