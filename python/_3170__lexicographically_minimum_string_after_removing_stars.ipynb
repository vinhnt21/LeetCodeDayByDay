{
 "cells": [
  {
   "cell_type": "code",
   "execution_count": 10,
   "id": "b988b629",
   "metadata": {},
   "outputs": [
    {
     "name": "stdout",
     "output_type": "stream",
     "text": [
      "Input string: aaba*\n",
      "n: 5\n",
      "pq: []\n",
      "m: defaultdict(<class 'collections.deque'>, {})\n",
      "keep: [True, True, True, True, True]\n",
      "----\n",
      "Processing character 'a' at index 0\n",
      "pq: ['a']\n",
      "m: defaultdict(<class 'collections.deque'>, {'a': deque([0])})\n",
      "keep: [True, True, True, True, True]\n",
      "----\n",
      "Processing character 'a' at index 1\n",
      "pq: ['a', 'a']\n",
      "m: defaultdict(<class 'collections.deque'>, {'a': deque([0, 1])})\n",
      "keep: [True, True, True, True, True]\n",
      "----\n",
      "Processing character 'b' at index 2\n",
      "pq: ['a', 'a', 'b']\n",
      "m: defaultdict(<class 'collections.deque'>, {'a': deque([0, 1]), 'b': deque([2])})\n",
      "keep: [True, True, True, True, True]\n",
      "----\n",
      "Processing character 'a' at index 3\n",
      "pq: ['a', 'a', 'b', 'a']\n",
      "m: defaultdict(<class 'collections.deque'>, {'a': deque([0, 1, 3]), 'b': deque([2])})\n",
      "keep: [True, True, True, True, True]\n",
      "----\n",
      "Processing character '*' at index 4\n",
      "pq: ['a', 'a', 'b']\n",
      "m: defaultdict(<class 'collections.deque'>, {'a': deque([0, 1]), 'b': deque([2])})\n",
      "keep: [True, True, True, False, False]\n",
      "aab\n"
     ]
    }
   ],
   "source": [
    "import heapq\n",
    "from collections import defaultdict, deque\n",
    "\n",
    "class Solution(object):\n",
    "    def clearStars(self, s):\n",
    "        n = len(s)\n",
    "        pq = []                    # min-heap chỉ lưu ký tự\n",
    "        m = defaultdict(deque)     # với mỗi ký tự c => deque các chỉ số i nơi s[i] = c\n",
    "        keep = [True] * n          # đánh dấu index nào giữ lại\n",
    "        print(f\"Input string: {s}\\nn: {n}\\npq: {pq}\\nm: {m}\\nkeep: {keep}\")\n",
    "        for i in range(n):\n",
    "            print(f\"----\\nProcessing character '{s[i]}' at index {i}\")\n",
    "            if s[i] == '*':\n",
    "                # 1) trong pq còn các ký tự chưa bị xóa: pop ký tự nhỏ nhất\n",
    "                smallest = heapq.heappop(pq)\n",
    "                # 2) trong m[smallest], pop() để lấy chỉ số xuất hiện gần nhất về bên trái\n",
    "                idx = m[smallest].pop()\n",
    "                keep[i] = False     # xóa '*' này\n",
    "                keep[idx] = False   # xóa ký tự nhỏ nhất ở idx\n",
    "            else:\n",
    "                # đẩy ký tự và lưu lại chỉ số của nó\n",
    "                heapq.heappush(pq, s[i])\n",
    "                m[s[i]].append(i)\n",
    "            print(f\"pq: {pq}\\nm: {m}\\nkeep: {keep}\")\n",
    "        # cuối cùng nối lại những ký tự không bị đánh dấu xóa\n",
    "        return ''.join(s[i] for i in range(n) if keep[i])\n",
    "\n",
    "\n",
    "# Example usage:\n",
    "sol = Solution()\n",
    "print(sol.clearStars(\"aaba*\")) "
   ]
  }
 ],
 "metadata": {
  "kernelspec": {
   "display_name": "Python 3",
   "language": "python",
   "name": "python3"
  },
  "language_info": {
   "codemirror_mode": {
    "name": "ipython",
    "version": 3
   },
   "file_extension": ".py",
   "mimetype": "text/x-python",
   "name": "python",
   "nbconvert_exporter": "python",
   "pygments_lexer": "ipython3",
   "version": "3.11.7"
  }
 },
 "nbformat": 4,
 "nbformat_minor": 5
}
