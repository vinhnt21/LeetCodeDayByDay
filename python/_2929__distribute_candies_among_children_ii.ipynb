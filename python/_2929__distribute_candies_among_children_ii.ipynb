{
 "cells": [
  {
   "cell_type": "code",
   "execution_count": 14,
   "id": "025eeb4c",
   "metadata": {},
   "outputs": [],
   "source": [
    "from math import comb\n",
    "class Solution:\n",
    "    def distributeCandies(self, n: int, limit: int) -> int:\n",
    "        def C(a,b):\n",
    "            return  comb(a,b) if a>=b and a>=0 else 0\n",
    "        L = limit + 1\n",
    "        total = C(n + 2, 2)\n",
    "        over1 = C(n - L + 2, 2)\n",
    "        over2 = C(n - 2 * L + 2, 2)\n",
    "        over3 = C(n - 3 * L + 2, 2)\n",
    "        \n",
    "        return total - 3*over1 + 3*over2  - over3"
   ]
  },
  {
   "cell_type": "code",
   "execution_count": 15,
   "id": "793d0269",
   "metadata": {},
   "outputs": [
    {
     "name": "stdout",
     "output_type": "stream",
     "text": [
      "3\n"
     ]
    }
   ],
   "source": [
    "res = Solution().distributeCandies(5,2)\n",
    "print(res)"
   ]
  },
  {
   "cell_type": "markdown",
   "id": "a1c0b86a",
   "metadata": {},
   "source": [
    "## 🧮 Kiến thức Tổ Hợp\n",
    "\n",
    "### 1. **Stars and Bars** (Chia số nguyên thành tổng các số không âm)\n",
    "\n",
    "* Số cách chia `n` viên kẹo cho `k` đứa trẻ **không giới hạn** là:\n",
    "\n",
    "  $$\n",
    "  C(n + k - 1, k - 1)\n",
    "  $$\n",
    "* Với `k = 3`, công thức là:\n",
    "\n",
    "  $$\n",
    "  C(n + 2, 2)\n",
    "  $$\n",
    "\n",
    "---\n",
    "\n",
    "## 📐 Nguyên lý bao hàm – loại trừ (Inclusion-Exclusion Principle)\n",
    "\n",
    "Khi cần **loại bỏ các trường hợp vi phạm nhiều điều kiện**, ta dùng công thức:\n",
    "\n",
    "$$\n",
    "|A ∪ B ∪ C| = |A| + |B| + |C| - |A∩B| - |B∩C| - |C∩A| + |A∩B∩C|\n",
    "$$\n",
    "\n",
    "Trong bài toán:\n",
    "\n",
    "* `A`: đứa 1 ăn quá giới hạn\n",
    "* `B`: đứa 2 ăn quá giới hạn\n",
    "* `C`: đứa 3 ăn quá giới hạn\n",
    "\n",
    "Áp dụng để điều chỉnh lại tổng số trường hợp.\n",
    "\n",
    "---\n",
    "\n",
    "## 🧠 Biến đổi ràng buộc dạng `x > limit`\n",
    "\n",
    "Muốn đếm số bộ `(a, b, c)` sao cho `a > limit`, ta làm như sau:\n",
    "\n",
    "* Đặt `a' = a - (limit + 1) ≥ 0`\n",
    "* Tức là đếm số bộ `(a', b, c)` sao cho:\n",
    "\n",
    "  $$\n",
    "  a' + b + c = n - (limit + 1)\n",
    "  $$\n",
    "* Và áp dụng lại Stars and Bars.\n",
    "\n",
    "---\n",
    "\n",
    "## 🧮 Công thức kết quả tổng quát:\n",
    "\n",
    "$$\n",
    "\\boxed{\n",
    "\\text{Answer} = C(n + 2, 2) - 3C(n - limit + 1, 2) + 3C(n - 2limit, 2) - C(n - 3limit - 1, 2)\n",
    "}\n",
    "$$\n",
    "\n",
    "Lưu ý:\n",
    "\n",
    "* Các `C(x, 2)` phải kiểm tra `x ≥ 0`, nếu không thì giá trị bằng 0.\n",
    "* Dùng `math.comb(n, k)` trong Python 3.8+\n",
    "\n",
    "---\n",
    "\n",
    "## 🛠️ Python lệnh mới\n",
    "\n",
    "* `from math import comb`: Hàm tổ hợp C(n, k)\n",
    "* Hàm `comb(n, k)` tự động trả về `0` nếu `k > n`\n",
    "\n",
    "---\n",
    "\n",
    "## ✅ Kỹ năng tổng hợp:\n",
    "\n",
    "| Kỹ năng học được           | Ứng dụng thực tế                       |\n",
    "| -------------------------- | -------------------------------------- |\n",
    "| Nguyên lý bao hàm loại trừ | Bài toán đếm tổ hợp có điều kiện       |\n",
    "| Stars and Bars             | Chia số nguyên không âm                |\n",
    "| Biến đổi ràng buộc         | Khi cần \"loại\" số vi phạm ra khỏi tổng |\n",
    "| Trình bày lời giải rõ ràng | Dạy lại người khác, giải thích dễ hiểu |\n",
    "\n"
   ]
  }
 ],
 "metadata": {
  "kernelspec": {
   "display_name": "Python 3",
   "language": "python",
   "name": "python3"
  },
  "language_info": {
   "codemirror_mode": {
    "name": "ipython",
    "version": 3
   },
   "file_extension": ".py",
   "mimetype": "text/x-python",
   "name": "python",
   "nbconvert_exporter": "python",
   "pygments_lexer": "ipython3",
   "version": "3.11.7"
  }
 },
 "nbformat": 4,
 "nbformat_minor": 5
}
