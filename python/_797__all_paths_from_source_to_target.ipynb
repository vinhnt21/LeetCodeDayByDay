{
 "cells": [
  {
   "cell_type": "code",
   "execution_count": 2,
   "id": "98853739",
   "metadata": {},
   "outputs": [
    {
     "name": "stdout",
     "output_type": "stream",
     "text": [
      "[[0, 1, 3], [0, 2, 3]]\n"
     ]
    }
   ],
   "source": [
    "from typing import List\n",
    "class Solution:\n",
    "    def allPathsSourceTarget(self, graph: List[List[int]]) -> List[List[int]]:\n",
    "        res = []\n",
    "        def dfs(node, path):\n",
    "            if node == len(graph) - 1:\n",
    "                res.append(path.copy())\n",
    "                return\n",
    "            for neighbor in graph[node]:\n",
    "                path.append(neighbor)\n",
    "                dfs(neighbor, path)\n",
    "                path.pop()\n",
    "                \n",
    "        dfs(0, [0])\n",
    "        return res\n",
    "graph = [[1,2],[3],[3],[]]\n",
    "a = Solution().allPathsSourceTarget(graph)\n",
    "print(a)  # Output: [[0, 1, 3], [0, 2, 3]]\n"
   ]
  }
 ],
 "metadata": {
  "kernelspec": {
   "display_name": "Python 3",
   "language": "python",
   "name": "python3"
  },
  "language_info": {
   "codemirror_mode": {
    "name": "ipython",
    "version": 3
   },
   "file_extension": ".py",
   "mimetype": "text/x-python",
   "name": "python",
   "nbconvert_exporter": "python",
   "pygments_lexer": "ipython3",
   "version": "3.11.7"
  }
 },
 "nbformat": 4,
 "nbformat_minor": 5
}
