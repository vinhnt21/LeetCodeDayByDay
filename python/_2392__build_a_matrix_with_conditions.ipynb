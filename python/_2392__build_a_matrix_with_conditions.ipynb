{
 "cells": [
  {
   "cell_type": "code",
   "execution_count": 9,
   "id": "33a98f8b",
   "metadata": {},
   "outputs": [
    {
     "name": "stdout",
     "output_type": "stream",
     "text": [
      "adj[]\n",
      "indegree[0, 0, 0, 0]\n",
      "Adding edge from 1 to 2\n",
      "adj[]\n",
      "indegree[0, 0, 1, 0]\n",
      "Adding edge from 3 to 2\n",
      "adj[]\n",
      "indegree[0, 0, 0, 0]\n",
      "Adding edge from 2 to 1\n",
      "adj[]\n",
      "indegree[0, 1, 0, 0]\n",
      "Adding edge from 3 to 2\n",
      "Row order: [1, 3, 2], Column order: [3, 2, 1]\n",
      "[[0, 0, 1], [3, 0, 0], [0, 2, 0]]\n"
     ]
    }
   ],
   "source": [
    "from typing import List\n",
    "from collections import deque, defaultdict\n",
    "\n",
    "class Solution:\n",
    "    def buildMatrix(self, k: int, rowConditions: List[List[int]], colConditions: List[List[int]]) -> List[List[int]]:\n",
    "        # Hàm thực hiện topological sort sử dụng Kahn's Algorithm\n",
    "        def topological_sort(k: int, conditions: List[List[int]]) -> List[int]:\n",
    "            # Khởi tạo đồ thị và bậc vào\n",
    "            adj = defaultdict(list)\n",
    "            indegree = [0] * (k + 1)  # Bỏ qua index 0, dùng từ 1 đến k\n",
    "            for a, b in conditions:\n",
    "                print(f'adj{adj[a]}')\n",
    "                print(f'indegree{indegree}')\n",
    "                print(f\"Adding edge from {a} to {b}\")\n",
    "                adj[a].append(b)\n",
    "                indegree[b] += 1\n",
    "            \n",
    "            # Khởi tạo hàng đợi với các node có bậc vào bằng 0\n",
    "            queue = deque([i for i in range(1, k + 1) if indegree[i] == 0])\n",
    "            order = []\n",
    "            \n",
    "            # Xử lý hàng đợi\n",
    "            while queue:\n",
    "                node = queue.popleft()\n",
    "                order.append(node)\n",
    "                for neighbor in adj[node]:\n",
    "                    indegree[neighbor] -= 1\n",
    "                    if indegree[neighbor] == 0:\n",
    "                        queue.append(neighbor)\n",
    "            \n",
    "            # Nếu số node trong order không đủ k, có chu trình, trả về danh sách rỗng\n",
    "            return order if len(order) == k else []\n",
    "        \n",
    "        # Lấy thứ tự định hướng cho hàng và cột\n",
    "        row_order = topological_sort(k, rowConditions)\n",
    "        col_order = topological_sort(k, colConditions)\n",
    "        print(f\"Row order: {row_order}, Column order: {col_order}\")\n",
    "        # Nếu một trong hai không hợp lệ (có chu trình), trả về ma trận rỗng\n",
    "        if not row_order or not col_order:\n",
    "            return []\n",
    "        \n",
    "        # Xây dựng ma trận\n",
    "        matrix = [[0] * k for _ in range(k)]\n",
    "        # Tạo ánh xạ từ giá trị sang chỉ số hàng và cột\n",
    "        row_pos = {num: i for i, num in enumerate(row_order)}\n",
    "        col_pos = {num: i for i, num in enumerate(col_order)}\n",
    "        \n",
    "        # Đặt các số vào ma trận\n",
    "        for num in range(1, k + 1):\n",
    "            if num not in row_pos or num not in col_pos:\n",
    "                return []\n",
    "            matrix[row_pos[num]][col_pos[num]] = num\n",
    "        \n",
    "        return matrix\n",
    "    \n",
    "# Example usage:\n",
    "col_conditions = [[2,1],[3,2]]\n",
    "row_conditions = [[1,2],[3,2]]\n",
    "solution = Solution()\n",
    "result = solution.buildMatrix(3, row_conditions, col_conditions)\n",
    "print(result)  # Output: [[1, 2, 3], [0, 0, 0], [0, 0, 0]] or similar valid matrix"
   ]
  }
 ],
 "metadata": {
  "kernelspec": {
   "display_name": "Python 3",
   "language": "python",
   "name": "python3"
  },
  "language_info": {
   "codemirror_mode": {
    "name": "ipython",
    "version": 3
   },
   "file_extension": ".py",
   "mimetype": "text/x-python",
   "name": "python",
   "nbconvert_exporter": "python",
   "pygments_lexer": "ipython3",
   "version": "3.11.7"
  }
 },
 "nbformat": 4,
 "nbformat_minor": 5
}
