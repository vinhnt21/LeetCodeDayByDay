{
 "cells": [
  {
   "cell_type": "code",
   "execution_count": null,
   "id": "0f781e87",
   "metadata": {},
   "outputs": [
    {
     "name": "stdout",
     "output_type": "stream",
     "text": [
      "Total candies: 16\n"
     ]
    }
   ],
   "source": [
    "from collections import deque\n",
    "from time import sleep\n",
    "\n",
    "# # Optional: simulate LeetCode 0ms runtime\n",
    "# __import__(\"atexit\").register(lambda: open(\"display_runtime.txt\", \"w\").write(\"0\"))\n",
    "sleep(0.1)\n",
    "\n",
    "class Solution:\n",
    "    def maxCandies(self, status, candies, keys, containedBoxes, initialBoxes):\n",
    "        n = len(status)\n",
    "        visited = [False] * n\n",
    "        have_keys = set()\n",
    "        box_queue = deque()\n",
    "        available_boxes = set(initialBoxes)\n",
    "\n",
    "        for box in initialBoxes:\n",
    "            if status[box] == 1:\n",
    "                box_queue.append(box)\n",
    "\n",
    "        total_candies = 0\n",
    "\n",
    "        while box_queue:\n",
    "            box = box_queue.popleft()\n",
    "            if visited[box]:\n",
    "                continue\n",
    "            visited[box] = True\n",
    "\n",
    "            total_candies += candies[box]\n",
    "\n",
    "            for key in keys[box]:\n",
    "                if key not in have_keys:\n",
    "                    have_keys.add(key)\n",
    "                    if key in available_boxes and not visited[key]:\n",
    "                        if status[key] == 0:\n",
    "                            status[key] = 1\n",
    "                        box_queue.append(key)\n",
    "\n",
    "            for contained in containedBoxes[box]:\n",
    "                available_boxes.add(contained)\n",
    "                if status[contained] == 1 and not visited[contained]:\n",
    "                    box_queue.append(contained)\n",
    "                elif contained in have_keys and not visited[contained]:\n",
    "                    status[contained] = 1\n",
    "                    box_queue.append(contained)\n",
    "\n",
    "        return total_candies\n",
    "\n",
    "# ==== Test Sample ====\n",
    "if __name__ == \"__main__\":\n",
    "    s = Solution()\n",
    "\n",
    "    status = [1, 0, 1, 0]\n",
    "    candies = [7, 5, 4, 100]\n",
    "    keys = [[], [], [1], []]\n",
    "    containedBoxes = [[1, 2], [3], [], []]\n",
    "    initialBoxes = [0]\n",
    "\n",
    "    result = s.maxCandies(status, candies, keys, containedBoxes, initialBoxes)\n",
    "    print(\"Total candies:\", result)  # Expected: 16\n"
   ]
  },
  {
   "cell_type": "code",
   "execution_count": null,
   "id": "a31ef100",
   "metadata": {},
   "outputs": [
    {
     "name": "stdout",
     "output_type": "stream",
     "text": [
      "Total candies: 16\n"
     ]
    }
   ],
   "source": [
    "\n",
    "# ==== Test Sample ====\n",
    "if __name__ == \"__main__\":\n",
    "    s = Solution()\n",
    "\n",
    "    status = [1, 0, 1, 0]\n",
    "    candies = [7, 5, 4, 100]\n",
    "    keys = [[], [], [1], []]\n",
    "    containedBoxes = [[1, 2], [3], [], []]\n",
    "    initialBoxes = [0]\n",
    "\n",
    "    result = s.maxCandies(status, candies, keys, containedBoxes, initialBoxes)\n",
    "    print(\"Total candies:\", result)  # Expected: 16\n"
   ]
  }
 ],
 "metadata": {
  "kernelspec": {
   "display_name": "Python 3",
   "language": "python",
   "name": "python3"
  },
  "language_info": {
   "codemirror_mode": {
    "name": "ipython",
    "version": 3
   },
   "file_extension": ".py",
   "mimetype": "text/x-python",
   "name": "python",
   "nbconvert_exporter": "python",
   "pygments_lexer": "ipython3",
   "version": "3.11.7"
  }
 },
 "nbformat": 4,
 "nbformat_minor": 5
}
