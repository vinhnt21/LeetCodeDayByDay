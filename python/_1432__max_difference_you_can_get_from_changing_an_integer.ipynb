{
 "cells": [
  {
   "cell_type": "code",
   "execution_count": 4,
   "id": "025fd8e2",
   "metadata": {},
   "outputs": [
    {
     "name": "stdout",
     "output_type": "stream",
     "text": [
      "Max number: 923456, Min number: 103456\n",
      "820000\n"
     ]
    }
   ],
   "source": [
    "class Solution:\n",
    "    def maxDiff(self, num: int) -> int:\n",
    "        num_str = str(num)\n",
    "        max_num = num_str\n",
    "        min_num = num_str\n",
    "        \n",
    "        if max_num[0] != '9':\n",
    "            max_num = max_num.replace(max_num[0], '9')\n",
    "        else:\n",
    "            for i in range(len(max_num)):\n",
    "                if max_num[i] != '9':\n",
    "                    max_num = max_num.replace(max_num[i], '9')\n",
    "                    break\n",
    "        if min_num[0] != '1':\n",
    "            min_num = min_num.replace(min_num[0], '1')\n",
    "        else:\n",
    "            for i in range(len(min_num)):\n",
    "                if min_num[i] != '1' and min_num[i] != '0':\n",
    "                    min_num = min_num.replace(min_num[i], '0')\n",
    "                    break\n",
    "        print(f\"Max number: {max_num}, Min number: {min_num}\")\n",
    "        return int(max_num) - int(min_num)\n",
    "print(Solution().maxDiff(123456))  # Example usage"
   ]
  }
 ],
 "metadata": {
  "kernelspec": {
   "display_name": "Python 3",
   "language": "python",
   "name": "python3"
  },
  "language_info": {
   "codemirror_mode": {
    "name": "ipython",
    "version": 3
   },
   "file_extension": ".py",
   "mimetype": "text/x-python",
   "name": "python",
   "nbconvert_exporter": "python",
   "pygments_lexer": "ipython3",
   "version": "3.11.7"
  }
 },
 "nbformat": 4,
 "nbformat_minor": 5
}
