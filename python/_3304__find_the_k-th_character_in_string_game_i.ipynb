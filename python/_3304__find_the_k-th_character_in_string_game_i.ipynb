{
 "cells": [
  {
   "cell_type": "code",
   "execution_count": 2,
   "id": "2585e22a",
   "metadata": {},
   "outputs": [
    {
     "data": {
      "text/plain": [
       "'b'"
      ]
     },
     "execution_count": 2,
     "metadata": {},
     "output_type": "execute_result"
    }
   ],
   "source": [
    "class Solution:\n",
    "    def kthCharacter(self, k: int) -> str:\n",
    "        def generate_next_string(s):\n",
    "            next_s = ''.join(chr((ord(char) - ord('a') + 1) % 26 + ord('a')) for char in s)\n",
    "            return s + next_s\n",
    "        \n",
    "        word = \"a\"\n",
    "        while len(word) < k:\n",
    "            word = generate_next_string(word)\n",
    "        \n",
    "        return word[k - 1]  # Adjust for zero-based indexing\n",
    "\n",
    "a = Solution().kthCharacter(5)\n",
    "a\n"
   ]
  },
  {
   "cell_type": "code",
   "execution_count": 3,
   "id": "0f0c8360",
   "metadata": {},
   "outputs": [
    {
     "name": "stdout",
     "output_type": "stream",
     "text": [
      "Current k: 5, Highest bit position: 2\n",
      "b\n"
     ]
    }
   ],
   "source": [
    "class Solution:\n",
    "    def kthCharacter(self, k: int) -> str:\n",
    "        # Initialize the answer variable to count the number of steps\n",
    "        ans = 0\n",
    "        \n",
    "        # Loop until k becomes 1\n",
    "        while k != 1:\n",
    "            # Find the position of the highest bit set in k (bit_length gives the number of bits required to represent k)\n",
    "            t = k.bit_length() - 1\n",
    "            print(f\"Current k: {k}, Highest bit position: {t}\")\n",
    "            # Check if k is a power of 2, if yes, adjust t to point to the previous bit\n",
    "            if (1 << t) == k:\n",
    "                t -= 1\n",
    "            \n",
    "            # Subtract the value of the highest power of 2 less than or equal to k\n",
    "            k -= 1 << t\n",
    "            \n",
    "            # Increment the answer counter\n",
    "            ans += 1\n",
    "        \n",
    "        # Convert the answer to a character by adding it to the ASCII value of 'a'\n",
    "        return chr(ord(\"a\") + ans)\n",
    "# Example usage\n",
    "a = Solution().kthCharacter(5)\n",
    "print(a)  # Output: 'c'"
   ]
  }
 ],
 "metadata": {
  "kernelspec": {
   "display_name": "Python 3",
   "language": "python",
   "name": "python3"
  },
  "language_info": {
   "codemirror_mode": {
    "name": "ipython",
    "version": 3
   },
   "file_extension": ".py",
   "mimetype": "text/x-python",
   "name": "python",
   "nbconvert_exporter": "python",
   "pygments_lexer": "ipython3",
   "version": "3.11.7"
  }
 },
 "nbformat": 4,
 "nbformat_minor": 5
}
