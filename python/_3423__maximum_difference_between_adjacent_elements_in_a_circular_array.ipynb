{
 "cells": [
  {
   "cell_type": "code",
   "execution_count": 7,
   "id": "33f7e264",
   "metadata": {},
   "outputs": [],
   "source": [
    "from typing import List\n",
    "\n",
    "class Solution:\n",
    "    def maxAdjacentDistance(self, nums: List[int]) -> int:\n",
    "        return max(abs(nums[i] - nums[(i + 1) % len(nums)]) for i in range(len(nums)))\n"
   ]
  },
  {
   "cell_type": "code",
   "execution_count": 8,
   "id": "0392597b",
   "metadata": {},
   "outputs": [],
   "source": [
    "from typing import List\n",
    "\n",
    "class Solution:\n",
    "    def maxAdjacentDistance(self, nums: List[int]) -> int:\n",
    "        n = len(nums)\n",
    "        max_diff = 0\n",
    "        for i in range(n):\n",
    "            diff = abs(nums[i] - nums[(i + 1) % n])  # xử lý vòng tròn\n",
    "            max_diff = max(max_diff, diff)\n",
    "        return max_diff\n"
   ]
  },
  {
   "cell_type": "code",
   "execution_count": null,
   "id": "36da2957",
   "metadata": {},
   "outputs": [],
   "source": [
    "from typing import List\n",
    "\n",
    "class Solution:\n",
    "    def maxAdjacentDistance(self, nums: List[int]) -> int:\n",
    "        n = len(nums)\n",
    "        nums.append(nums[0])  \n",
    "        max_diff = 0\n",
    "        for i in range(n):\n",
    "            diff = abs(nums[i] - nums[i + 1])\n",
    "            max_diff = max(max_diff, diff)\n",
    "        return max_diff\n"
   ]
  }
 ],
 "metadata": {
  "kernelspec": {
   "display_name": "Python 3",
   "language": "python",
   "name": "python3"
  },
  "language_info": {
   "codemirror_mode": {
    "name": "ipython",
    "version": 3
   },
   "file_extension": ".py",
   "mimetype": "text/x-python",
   "name": "python",
   "nbconvert_exporter": "python",
   "pygments_lexer": "ipython3",
   "version": "3.11.7"
  }
 },
 "nbformat": 4,
 "nbformat_minor": 5
}
