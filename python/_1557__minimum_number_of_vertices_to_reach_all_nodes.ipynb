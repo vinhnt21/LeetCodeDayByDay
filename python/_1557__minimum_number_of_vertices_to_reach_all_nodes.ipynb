{
 "cells": [
  {
   "cell_type": "code",
   "execution_count": 1,
   "id": "1e7abb88",
   "metadata": {},
   "outputs": [],
   "source": [
    "from typing import List\n",
    "class Solution:\n",
    "    def findSmallestSetOfVertices(self, n: int, edges: List[List[int]]) -> List[int]:\n",
    "        indgrees = [0] * n\n",
    "        for u, v in edges:\n",
    "            indgrees[v] += 1\n",
    "        res = []\n",
    "        for i in range(n):\n",
    "            if indgrees[i] == 0:\n",
    "                res.append(i)\n",
    "        return res\n",
    "\n",
    "# Example usage:\n"
   ]
  }
 ],
 "metadata": {
  "kernelspec": {
   "display_name": "Python 3",
   "language": "python",
   "name": "python3"
  },
  "language_info": {
   "codemirror_mode": {
    "name": "ipython",
    "version": 3
   },
   "file_extension": ".py",
   "mimetype": "text/x-python",
   "name": "python",
   "nbconvert_exporter": "python",
   "pygments_lexer": "ipython3",
   "version": "3.11.7"
  }
 },
 "nbformat": 4,
 "nbformat_minor": 5
}
