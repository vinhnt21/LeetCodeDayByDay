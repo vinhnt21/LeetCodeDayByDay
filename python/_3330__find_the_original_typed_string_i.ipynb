{
 "cells": [
  {
   "cell_type": "code",
   "execution_count": 1,
   "id": "56f45858",
   "metadata": {},
   "outputs": [
    {
     "data": {
      "text/plain": [
       "5"
      ]
     },
     "execution_count": 1,
     "metadata": {},
     "output_type": "execute_result"
    }
   ],
   "source": [
    "class Solution:\n",
    "    def possibleStringCount(self, word: str) -> int:\n",
    "        cnt = 1\n",
    "        char_dict = {}\n",
    "        for char in word:\n",
    "            if char in char_dict:\n",
    "                char_dict[char] += 1\n",
    "            else:\n",
    "                char_dict[char] = 0\n",
    "        for char in char_dict:\n",
    "            cnt += char_dict[char] \n",
    "            \n",
    "        return cnt \n",
    "    \n",
    "# Example usage:\n",
    "sol = Solution()\n",
    "sol.possibleStringCount(\"abbcccc\")  # Output: 4"
   ]
  }
 ],
 "metadata": {
  "kernelspec": {
   "display_name": "Python 3",
   "language": "python",
   "name": "python3"
  },
  "language_info": {
   "codemirror_mode": {
    "name": "ipython",
    "version": 3
   },
   "file_extension": ".py",
   "mimetype": "text/x-python",
   "name": "python",
   "nbconvert_exporter": "python",
   "pygments_lexer": "ipython3",
   "version": "3.11.7"
  }
 },
 "nbformat": 4,
 "nbformat_minor": 5
}
