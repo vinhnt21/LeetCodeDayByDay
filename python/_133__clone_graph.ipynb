{
 "cells": [
  {
   "cell_type": "code",
   "execution_count": 9,
   "id": "76601767",
   "metadata": {},
   "outputs": [],
   "source": [
    "\n",
    "# Definition for a Node.\n",
    "class Node:\n",
    "    def __init__(self, val = 0, neighbors = None):\n",
    "        self.val = val\n",
    "        self.neighbors = neighbors if neighbors is not None else []\n",
    "\n",
    "from typing import Optional\n",
    "class Solution:\n",
    "    def cloneGraph(self, node: Optional['Node']) -> Optional['Node']:\n",
    "        if not node:\n",
    "            return None\n",
    "        \n",
    "        # Dictionary to hold the mapping from original nodes to cloned nodes\n",
    "        clone_map = {}\n",
    "        \n",
    "        def dfs(original_node:Node):\n",
    "            if original_node in clone_map:\n",
    "                return clone_map[original_node]\n",
    "            \n",
    "            cloned_node = Node(original_node.val)\n",
    "            clone_map[original_node] = cloned_node\n",
    "            \n",
    "            for neighbor in original_node.neighbors:\n",
    "                cloned_node.neighbors.append(dfs(neighbor))\n",
    "                \n",
    "            return cloned_node\n",
    "        \n",
    "        return dfs(node)\n",
    "\n",
    "node1 = Node(1)\n",
    "node2 = Node(2)\n",
    "node3 = Node(3)\n",
    "node4 = Node(4)\n",
    "\n",
    "node1.neighbors = [node2, node4]\n",
    "node2.neighbors = [node1, node3]\n",
    "node3.neighbors = [node2, node4]\n",
    "node4.neighbors = [node1, node3]\n",
    "\n",
    "solution = Solution()\n",
    "cloned_graph = solution.cloneGraph(node1)\n"
   ]
  }
 ],
 "metadata": {
  "kernelspec": {
   "display_name": "Python 3",
   "language": "python",
   "name": "python3"
  },
  "language_info": {
   "codemirror_mode": {
    "name": "ipython",
    "version": 3
   },
   "file_extension": ".py",
   "mimetype": "text/x-python",
   "name": "python",
   "nbconvert_exporter": "python",
   "pygments_lexer": "ipython3",
   "version": "3.11.7"
  }
 },
 "nbformat": 4,
 "nbformat_minor": 5
}
