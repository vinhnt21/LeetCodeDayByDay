{
 "cells": [
  {
   "cell_type": "code",
   "execution_count": 1,
   "id": "7112aef5",
   "metadata": {},
   "outputs": [
    {
     "name": "stdout",
     "output_type": "stream",
     "text": [
      "Calculating distances from node 0\n",
      "Initial distances: [-1, -1, -1, -1]\n",
      "Visiting node 0 at distance 0\n",
      "Visiting node 2 at distance 1\n",
      "Visiting node 3 at distance 2\n",
      "[0, -1, 1, 2]\n",
      "Calculating distances from node 1\n",
      "Initial distances: [-1, -1, -1, -1]\n",
      "Visiting node 1 at distance 0\n",
      "Visiting node 2 at distance 1\n",
      "Visiting node 3 at distance 2\n",
      "[-1, 0, 1, 2]\n",
      "2\n"
     ]
    }
   ],
   "source": [
    "from typing import *\n",
    "\n",
    "class Solution:\n",
    "    def closestMeetingNode(self, edges: List[int],\n",
    "                           node1: int, node2: int) -> int:\n",
    "        n = len(edges)\n",
    "\n",
    "        # Hàm phụ: khoảng cách từ một nguồn\n",
    "        def calc(src: int) -> List[int]:\n",
    "            print(f\"Calculating distances from node {src}\")\n",
    "            dist = [-1] * n\n",
    "            print(f\"Initial distances: {dist}\")\n",
    "            cur, d = src, 0\n",
    "            \n",
    "            while cur != -1 and dist[cur] == -1:\n",
    "                print(f\"Visiting node {cur} at distance {d}\")\n",
    "                dist[cur] = d\n",
    "                cur = edges[cur]\n",
    "                d += 1\n",
    "            return dist\n",
    "\n",
    "        dist1 = calc(node1)\n",
    "        print(dist1)\n",
    "        dist2 = calc(node2)\n",
    "        print(dist2)\n",
    "        best, bestMax = -1, float('inf')\n",
    "        for i in range(n):\n",
    "            if dist1[i] != -1 and dist2[i] != -1:\n",
    "                curMax = max(dist1[i], dist2[i])\n",
    "                if curMax < bestMax or (curMax == bestMax and i < best):\n",
    "                    bestMax, best = curMax, i\n",
    "        return best\n",
    "\n",
    "\n",
    "# Example usage:\n",
    "edges = [2, 2, 3, -1]\n",
    "node1 = 0\n",
    "node2 = 1\n",
    "solution = Solution()\n",
    "result = solution.closestMeetingNode(edges, node1, node2)\n",
    "print(result)  # Output: 2\n"
   ]
  }
 ],
 "metadata": {
  "kernelspec": {
   "display_name": "Python 3",
   "language": "python",
   "name": "python3"
  },
  "language_info": {
   "codemirror_mode": {
    "name": "ipython",
    "version": 3
   },
   "file_extension": ".py",
   "mimetype": "text/x-python",
   "name": "python",
   "nbconvert_exporter": "python",
   "pygments_lexer": "ipython3",
   "version": "3.11.7"
  }
 },
 "nbformat": 4,
 "nbformat_minor": 5
}
