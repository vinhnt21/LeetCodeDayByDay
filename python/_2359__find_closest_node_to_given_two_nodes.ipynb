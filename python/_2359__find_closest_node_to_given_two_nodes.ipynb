{
 "cells": [
  {
   "cell_type": "code",
   "execution_count": null,
   "id": "7112aef5",
   "metadata": {},
   "outputs": [],
   "source": [
    "from typing import *\n",
    "\n",
    "class Solution:\n",
    "    def closestMeetingNode(self, edges: List[int],\n",
    "                           node1: int, node2: int) -> int:\n",
    "        n = len(edges)\n",
    "\n",
    "        # Hàm phụ: khoảng cách từ một nguồn\n",
    "        def calc(src: int) -> List[int]:\n",
    "            print(f\"Calculating distances from node {src}\")\n",
    "            dist = [-1] * n\n",
    "            print(f\"Initial distances: {dist}\")\n",
    "            cur, d = src, 0\n",
    "            \n",
    "            while cur != -1 and dist[cur] == -1:\n",
    "                print(f\"Visiting node {cur} at distance {d}\")\n",
    "                dist[cur] = d\n",
    "                cur = edges[cur]\n",
    "                d += 1\n",
    "            return dist\n",
    "\n",
    "        dist1 = calc(node1)\n",
    "        print(dist1)\n",
    "        dist2 = calc(node2)\n",
    "        print(dist2)\n",
    "        best, bestMax = -1, float('inf')\n",
    "        for i in range(n):\n",
    "            if dist1[i] != -1 and dist2[i] != -1:\n",
    "                curMax = max(dist1[i], dist2[i])\n",
    "                if curMax < bestMax or (curMax == bestMax and i < best):\n",
    "                    bestMax, best = curMax, i\n",
    "        return best\n",
    "\n",
    "\n",
    "# Example usage:\n",
    "edges = [2, 2, 3, -1]\n",
    "node1 = 0\n",
    "node2 = 1\n",
    "solution = Solution()\n",
    "result = solution.closestMeetingNode(edges, node1, node2)\n",
    "print(result)  # Output: 2\n"
   ]
  }
 ],
 "metadata": {
  "kernelspec": {
   "display_name": "Python 3",
   "language": "python",
   "name": "python3"
  },
  "language_info": {
   "name": "python",
   "version": "3.11.7"
  }
 },
 "nbformat": 4,
 "nbformat_minor": 5
}
