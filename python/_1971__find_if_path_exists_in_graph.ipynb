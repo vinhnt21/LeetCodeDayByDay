{
 "cells": [
  {
   "cell_type": "code",
   "execution_count": null,
   "id": "e4763f0e",
   "metadata": {},
   "outputs": [],
   "source": [
    "from typing import List\n",
    "from collections import defaultdict\n",
    "\n",
    "class Solution:\n",
    "    def validPath(self, n: int, edges: List[List[int]], source: int, destination: int) -> bool:\n",
    "        graph = defaultdict(list)\n",
    "        \n",
    "        for u, v in edges:\n",
    "            graph[u].append(v)\n",
    "            graph[v].append(u)\n",
    "            \n",
    "        visited = set()\n",
    "        \n",
    "        def dfs(node):\n",
    "            if node == destination:\n",
    "                return True\n",
    "            if node in visited:  # Skip already visited nodes\n",
    "                return False\n",
    "            visited.add(node)\n",
    "            for neighbor in graph[node]:\n",
    "                if neighbor not in visited and dfs(neighbor):\n",
    "                    return True\n",
    "            return False\n",
    "        \n",
    "        return dfs(source)"
   ]
  },
  {
   "cell_type": "code",
   "execution_count": null,
   "id": "53dfe34d",
   "metadata": {},
   "outputs": [],
   "source": [
    "from typing import List\n",
    "from collections import defaultdict, deque\n",
    "\n",
    "class Solution:\n",
    "    def validPath(self, n: int, edges: List[List[int]], source: int, destination: int) -> bool:\n",
    "        graph = defaultdict(list)\n",
    "        for u, v in edges:\n",
    "            graph[u].append(v)\n",
    "            graph[v].append(u)\n",
    "\n",
    "        visited = set()\n",
    "        queue = deque([source])\n",
    "\n",
    "        while queue:\n",
    "            node = queue.popleft()\n",
    "            if node == destination:\n",
    "                return True\n",
    "            if node not in visited:\n",
    "                visited.add(node)\n",
    "                for neighbor in graph[node]:\n",
    "                    if neighbor not in visited:\n",
    "                        queue.append(neighbor)\n",
    "\n",
    "        return False\n"
   ]
  },
  {
   "cell_type": "code",
   "execution_count": 1,
   "id": "2f594271",
   "metadata": {},
   "outputs": [
    {
     "data": {
      "text/plain": [
       "[0, 1, 2, 3, 4, 5, 6, 7, 8, 9]"
      ]
     },
     "execution_count": 1,
     "metadata": {},
     "output_type": "execute_result"
    }
   ],
   "source": [
    "a = list(range(10))\n",
    "a"
   ]
  },
  {
   "cell_type": "code",
   "execution_count": 9,
   "id": "b103f749",
   "metadata": {},
   "outputs": [
    {
     "name": "stdout",
     "output_type": "stream",
     "text": [
      "Union: 0 and 1\n",
      "Find: 1, Parent: 1\n",
      "Updated Parent: [0, 1, 2, 3, 4, 5]\n",
      "Find: 0, Parent: 0\n",
      "Updated Parent: [0, 1, 2, 3, 4, 5]\n",
      "After Union: [1, 1, 2, 3, 4, 5]\n",
      "Union: 0 and 2\n",
      "Find: 2, Parent: 2\n",
      "Updated Parent: [1, 1, 2, 3, 4, 5]\n",
      "Find: 0, Parent: 1\n",
      "Find: 1, Parent: 1\n",
      "Updated Parent: [1, 1, 2, 3, 4, 5]\n",
      "Updated Parent: [1, 1, 2, 3, 4, 5]\n",
      "After Union: [1, 2, 2, 3, 4, 5]\n",
      "Union: 3 and 5\n",
      "Find: 5, Parent: 5\n",
      "Updated Parent: [1, 2, 2, 3, 4, 5]\n",
      "Find: 3, Parent: 3\n",
      "Updated Parent: [1, 2, 2, 3, 4, 5]\n",
      "After Union: [1, 2, 2, 5, 4, 5]\n",
      "Union: 5 and 4\n",
      "Find: 4, Parent: 4\n",
      "Updated Parent: [1, 2, 2, 5, 4, 5]\n",
      "Find: 5, Parent: 5\n",
      "Updated Parent: [1, 2, 2, 5, 4, 5]\n",
      "After Union: [1, 2, 2, 5, 4, 4]\n",
      "Union: 4 and 3\n",
      "Find: 3, Parent: 5\n",
      "Find: 5, Parent: 4\n",
      "Find: 4, Parent: 4\n",
      "Updated Parent: [1, 2, 2, 5, 4, 4]\n",
      "Updated Parent: [1, 2, 2, 5, 4, 4]\n",
      "Updated Parent: [1, 2, 2, 4, 4, 4]\n",
      "Find: 4, Parent: 4\n",
      "Updated Parent: [1, 2, 2, 4, 4, 4]\n",
      "After Union: [1, 2, 2, 4, 4, 4]\n",
      "Source: 0, Destination: 5\n",
      "Find: 0, Parent: 1\n",
      "Find: 1, Parent: 2\n",
      "Find: 2, Parent: 2\n",
      "Updated Parent: [1, 2, 2, 4, 4, 4]\n",
      "Updated Parent: [1, 2, 2, 4, 4, 4]\n",
      "Updated Parent: [2, 2, 2, 4, 4, 4]\n",
      "Find: 5, Parent: 4\n",
      "Find: 4, Parent: 4\n",
      "Updated Parent: [2, 2, 2, 4, 4, 4]\n",
      "Updated Parent: [2, 2, 2, 4, 4, 4]\n",
      "False\n"
     ]
    }
   ],
   "source": [
    "from typing import List\n",
    "class UnionFind:\n",
    "    def __init__(self, n):\n",
    "        self.parent = list(range(n))\n",
    "\n",
    "    def find(self, x):\n",
    "        print(f\"Find: {x}, Parent: {self.parent[x]}\")\n",
    "        if self.parent[x] != x:\n",
    "            self.parent[x] = self.find(self.parent[x])  # Path compression\n",
    "        print(f\"Updated Parent: {self.parent}\")\n",
    "    \n",
    "        return self.parent[x]\n",
    "\n",
    "    def union(self, x, y):\n",
    "        print(f\"Union: {x} and {y}\")\n",
    "        self.parent[self.find(x)] = self.find(y)\n",
    "        print(f\"After Union: {self.parent}\")\n",
    "\n",
    "class Solution:\n",
    "    def validPath(self, n: int, edges: List[List[int]], source: int, destination: int) -> bool:\n",
    "        uf = UnionFind(n)\n",
    "\n",
    "        for u, v in edges:\n",
    "            uf.union(u, v)\n",
    "        print(f\"Source: {source}, Destination: {destination}\")\n",
    "        return uf.find(source) == uf.find(destination)\n",
    "#  n = 6, edges = [[0,1],[0,2],[3,5],[5,4],[4,3]], source = 0, destination = 5\n",
    "n = 6\n",
    "edges = [[0,1],[0,2],[3,5],[5,4],[4,3]]\n",
    "source = 0\n",
    "destination = 5\n",
    "solution = Solution()\n",
    "result = solution.validPath(n, edges, source, destination)\n",
    "print(result)  # Output: False"
   ]
  }
 ],
 "metadata": {
  "kernelspec": {
   "display_name": "Python 3",
   "language": "python",
   "name": "python3"
  },
  "language_info": {
   "codemirror_mode": {
    "name": "ipython",
    "version": 3
   },
   "file_extension": ".py",
   "mimetype": "text/x-python",
   "name": "python",
   "nbconvert_exporter": "python",
   "pygments_lexer": "ipython3",
   "version": "3.11.7"
  }
 },
 "nbformat": 4,
 "nbformat_minor": 5
}
