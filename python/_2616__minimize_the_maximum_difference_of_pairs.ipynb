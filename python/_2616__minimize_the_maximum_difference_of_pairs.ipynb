{
 "cells": [
  {
   "cell_type": "code",
   "execution_count": 7,
   "id": "1bb923fa",
   "metadata": {},
   "outputs": [
    {
     "name": "stdout",
     "output_type": "stream",
     "text": [
      "Sorted nums: [1, 2, 3, 5]\n",
      "Initial left: 0, right: 4\n",
      "Current left: 0, right: 4 , mid: 2\n",
      "count: 0, i: 0, checking pair: (1, 2) with max_diff: 2\n",
      "count: 1, i: 2, checking pair: (3, 5) with max_diff: 2\n",
      "Current left: 0, right: 1 , mid: 0\n",
      "count: 0, i: 0, checking pair: (1, 2) with max_diff: 0\n",
      "count: 0, i: 1, checking pair: (2, 3) with max_diff: 0\n",
      "count: 0, i: 2, checking pair: (3, 5) with max_diff: 0\n",
      "Current left: 1, right: 1 , mid: 1\n",
      "count: 0, i: 0, checking pair: (1, 2) with max_diff: 1\n",
      "count: 1, i: 2, checking pair: (3, 5) with max_diff: 1\n",
      "2\n"
     ]
    }
   ],
   "source": [
    "from typing import List\n",
    "\n",
    "class Solution:\n",
    "    def minimizeMax(self, nums: List[int], p: int) -> int:\n",
    "        nums.sort()  # Bước 1: Sắp xếp để độ chênh lệch nhỏ nằm gần nhau\n",
    "        print(f\"Sorted nums: {nums}\")\n",
    "        def can_form_p_pairs(max_diff):\n",
    "            count = 0\n",
    "            i = 0\n",
    "            while i < len(nums) - 1:\n",
    "                print(f\"count: {count}, i: {i}, checking pair: ({nums[i]}, {nums[i + 1]}) with max_diff: {max_diff}\")\n",
    "                if nums[i + 1] - nums[i] <= max_diff:\n",
    "                    count += 1\n",
    "                    i += 2  # bỏ cả 2 phần tử vì mỗi phần tử chỉ dùng 1 lần\n",
    "                else:\n",
    "                    i += 1  # không ghép được thì chỉ bỏ 1 phần tử\n",
    "            return count >= p\n",
    "\n",
    "        # Bước 2: Tìm kiếm nhị phân trên đáp án\n",
    "        left, right = 0, nums[-1] - nums[0]\n",
    "        print(f\"Initial left: {left}, right: {right}\")\n",
    "        answer = right\n",
    "\n",
    "        while left <= right:\n",
    "            mid = (left + right) // 2\n",
    "            print(f\"Current left: {left}, right: {right}\", f\", mid: {mid}\")\n",
    "            \n",
    "            if can_form_p_pairs(mid):\n",
    "                answer = mid\n",
    "                right = mid - 1  # thử tìm giá trị nhỏ hơn\n",
    "            else:\n",
    "                left = mid + 1  # phải tăng độ chênh lệch lên\n",
    "\n",
    "        return answer\n",
    "\n",
    "nums = [1,5,2,3]\n",
    "p = 2\n",
    "solution = Solution()\n",
    "print(solution.minimizeMax(nums, p))  # Output: 1"
   ]
  }
 ],
 "metadata": {
  "kernelspec": {
   "display_name": "Python 3",
   "language": "python",
   "name": "python3"
  },
  "language_info": {
   "codemirror_mode": {
    "name": "ipython",
    "version": 3
   },
   "file_extension": ".py",
   "mimetype": "text/x-python",
   "name": "python",
   "nbconvert_exporter": "python",
   "pygments_lexer": "ipython3",
   "version": "3.11.7"
  }
 },
 "nbformat": 4,
 "nbformat_minor": 5
}
