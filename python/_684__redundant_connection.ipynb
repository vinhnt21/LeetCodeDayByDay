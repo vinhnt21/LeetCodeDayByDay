{
 "cells": [
  {
   "cell_type": "code",
   "execution_count": 4,
   "id": "9ac5ac27",
   "metadata": {},
   "outputs": [
    {
     "name": "stdout",
     "output_type": "stream",
     "text": [
      "Finding root of 1\n",
      "Root of 1 is 1\n",
      "Finding root of 2\n",
      "Root of 2 is 2\n",
      "Union 1 and 2, setting parent of 2 to 1\n",
      "Finding root of 1\n",
      "Root of 1 is 1\n",
      "Finding root of 3\n",
      "Root of 3 is 3\n",
      "Union 1 and 3, setting parent of 3 to 1\n",
      "Finding root of 2\n",
      "Finding root of 1\n",
      "Root of 1 is 1\n",
      "Root of 2 is 1\n",
      "Finding root of 3\n",
      "Finding root of 1\n",
      "Root of 1 is 1\n",
      "Root of 3 is 1\n",
      "[2, 3]\n"
     ]
    }
   ],
   "source": [
    "from typing import List\n",
    "class Solution:\n",
    "    def findRedundantConnection(self, edges: List[List[int]]) -> List[int]:\n",
    "        parent = [i for i in range(len(edges) + 1)]\n",
    "        \n",
    "        def find(x):\n",
    "            print(f\"Finding root of {x}\")\n",
    "            if parent[x] != x:\n",
    "                parent[x] = find(parent[x])\n",
    "            print(f\"Root of {x} is {parent[x]}\")\n",
    "            return parent[x]\n",
    "        \n",
    "        def union(x, y):\n",
    "            rootX = find(x)\n",
    "            rootY = find(y)\n",
    "            if rootX != rootY:\n",
    "                parent[rootY] = rootX\n",
    "                print(f\"Union {x} and {y}, setting parent of {rootY} to {rootX}\")\n",
    "                return True\n",
    "            else:\n",
    "                \n",
    "                return False\n",
    "            \n",
    "        for u, v in edges:\n",
    "            if not union(u, v):\n",
    "                return [u, v]\n",
    "                # If u and v are already connected, this edge is redundant\n",
    "        return []\n",
    "        \n",
    "# Example usage:\n",
    "sol = Solution()\n",
    "edges = [[1, 2], [1, 3], [2, 3]]\n",
    "print(sol.findRedundantConnection(edges))  # Output: [2, 3]\n"
   ]
  }
 ],
 "metadata": {
  "kernelspec": {
   "display_name": "Python 3",
   "language": "python",
   "name": "python3"
  },
  "language_info": {
   "codemirror_mode": {
    "name": "ipython",
    "version": 3
   },
   "file_extension": ".py",
   "mimetype": "text/x-python",
   "name": "python",
   "nbconvert_exporter": "python",
   "pygments_lexer": "ipython3",
   "version": "3.11.7"
  }
 },
 "nbformat": 4,
 "nbformat_minor": 5
}
