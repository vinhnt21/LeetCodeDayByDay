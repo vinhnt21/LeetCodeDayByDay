{
 "cells": [
  {
   "cell_type": "code",
   "execution_count": null,
   "id": "955be5d2",
   "metadata": {},
   "outputs": [],
   "source": [
    "from typing import List\n",
    "\n",
    "class Solution:\n",
    "    def maximumDifference(self, nums: List[int]) -> int:\n",
    "        min_val = nums[0]\n",
    "        max_diff = -1\n",
    "\n",
    "        for j in range(1, len(nums)):\n",
    "            if nums[j] > min_val:\n",
    "                max_diff = max(max_diff, nums[j] - min_val)\n",
    "            else:\n",
    "                min_val = nums[j]  # cập nhật min_val nếu gặp giá trị nhỏ hơn\n",
    "\n",
    "        return max_diff\n"
   ]
  }
 ],
 "metadata": {
  "language_info": {
   "name": "python"
  }
 },
 "nbformat": 4,
 "nbformat_minor": 5
}
