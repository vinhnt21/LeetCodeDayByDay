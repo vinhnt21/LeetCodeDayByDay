{
 "cells": [
  {
   "cell_type": "code",
   "execution_count": null,
   "id": "a4bc2f6f",
   "metadata": {},
   "outputs": [],
   "source": [
    "import pandas as pd\n",
    "\n",
    "def big_countries(world: pd.DataFrame) -> pd.DataFrame:\n",
    "    return world[(world['area'] >= 3000000) | (world['population'] >= 25000000)][['name', 'population', 'area']]"
   ]
  }
 ],
 "metadata": {
  "language_info": {
   "name": "python"
  }
 },
 "nbformat": 4,
 "nbformat_minor": 5
}
