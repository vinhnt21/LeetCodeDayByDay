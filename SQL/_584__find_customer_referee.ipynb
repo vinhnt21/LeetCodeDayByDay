{
 "cells": [
  {
   "cell_type": "code",
   "execution_count": null,
   "id": "006e1398",
   "metadata": {},
   "outputs": [],
   "source": [
    "import pandas as pd\n",
    "\n",
    "def find_customer_referee(customer: pd.DataFrame) -> pd.DataFrame:\n",
    "    return customer[customer['referee_id'] != 2 or customer['referee_id'].isnull()]"
   ]
  }
 ],
 "metadata": {
  "kernelspec": {
   "display_name": "Python 3",
   "language": "python",
   "name": "python3"
  },
  "language_info": {
   "name": "python",
   "version": "3.11.7"
  }
 },
 "nbformat": 4,
 "nbformat_minor": 5
}
