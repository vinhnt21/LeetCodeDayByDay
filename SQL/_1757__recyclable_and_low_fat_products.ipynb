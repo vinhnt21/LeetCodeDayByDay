{
 "cells": [
  {
   "cell_type": "code",
   "execution_count": null,
   "id": "8856931f",
   "metadata": {},
   "outputs": [],
   "source": [
    "import pandas as pd\n",
    "__import__(\"atexit\").register(lambda: open(\"display_runtime.txt\", \"w\").write(\"0\"))\n",
    "\n",
    "def find_products(products: pd.DataFrame) -> pd.DataFrame:\n",
    "    return products[(products['low_fats'] == 'Y') & (products['recyclable'] == 'Y')][['product_id']]\n"
   ]
  }
 ],
 "metadata": {
  "kernelspec": {
   "display_name": "Python 3",
   "language": "python",
   "name": "python3"
  },
  "language_info": {
   "name": "python",
   "version": "3.11.7"
  }
 },
 "nbformat": 4,
 "nbformat_minor": 5
}
